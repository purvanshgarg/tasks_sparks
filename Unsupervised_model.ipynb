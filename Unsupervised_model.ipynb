{
  "nbformat": 4,
  "nbformat_minor": 0,
  "metadata": {
    "colab": {
      "name": "Unsupervised model.ipynb",
      "provenance": [],
      "authorship_tag": "ABX9TyPnMz7fZPhcCdYUElyHzkJG",
      "include_colab_link": true
    },
    "kernelspec": {
      "name": "python3",
      "display_name": "Python 3"
    },
    "language_info": {
      "name": "python"
    }
  },
  "cells": [
    {
      "cell_type": "markdown",
      "metadata": {
        "id": "view-in-github",
        "colab_type": "text"
      },
      "source": [
        "<a href=\"https://colab.research.google.com/github/purvanshgarg/tasks_sparks/blob/main/Unsupervised_model.ipynb\" target=\"_parent\"><img src=\"https://colab.research.google.com/assets/colab-badge.svg\" alt=\"Open In Colab\"/></a>"
      ]
    },
    {
      "cell_type": "markdown",
      "metadata": {
        "id": "4AT_yHEDnLZN"
      },
      "source": [
        "#Prediction Using Unsupervised ML \n",
        "\n",
        "---\n",
        "\n"
      ]
    },
    {
      "cell_type": "markdown",
      "metadata": {
        "id": "RwNzrd7Ems9B"
      },
      "source": [
        "# Task 1 for #GRIP rotational Internship \n"
      ]
    },
    {
      "cell_type": "markdown",
      "metadata": {
        "id": "nouuele-n300"
      },
      "source": [
        "# We are given iris dataset, predict the no of clusters and represent it visually "
      ]
    },
    {
      "cell_type": "markdown",
      "metadata": {
        "id": "O3HENYGyoy21"
      },
      "source": [
        "**#Importing Libraries**"
      ]
    },
    {
      "cell_type": "code",
      "metadata": {
        "id": "kunLJ6Uoomjl"
      },
      "source": [
        "\n",
        "import numpy as np #numpy library for numerical operations \n",
        "import matplotlib.pyplot as plt # for plotting of data\n",
        "import pandas as pd #for creating and handling a dataframe\n",
        "from sklearn import datasets # for making use of dataset"
      ],
      "execution_count": 1,
      "outputs": []
    },
    {
      "cell_type": "markdown",
      "metadata": {
        "id": "mi_xxryko77E"
      },
      "source": [
        "**#Loading the dataset**"
      ]
    },
    {
      "cell_type": "code",
      "metadata": {
        "colab": {
          "base_uri": "https://localhost:8080/",
          "height": 202
        },
        "id": "UqR31sSZmpAh",
        "outputId": "2d28c76a-a864-42a6-a1bb-4fa51b95347d"
      },
      "source": [
        "data = datasets.load_iris() #loading the dataset\n",
        "dataset = pd.DataFrame(iris.data, columns = iris.feature_names) # creating a dataframe\n",
        "dataset.head() #printig the first five rows of the dataframe created"
      ],
      "execution_count": 3,
      "outputs": [
        {
          "output_type": "execute_result",
          "data": {
            "text/html": [
              "<div>\n",
              "<style scoped>\n",
              "    .dataframe tbody tr th:only-of-type {\n",
              "        vertical-align: middle;\n",
              "    }\n",
              "\n",
              "    .dataframe tbody tr th {\n",
              "        vertical-align: top;\n",
              "    }\n",
              "\n",
              "    .dataframe thead th {\n",
              "        text-align: right;\n",
              "    }\n",
              "</style>\n",
              "<table border=\"1\" class=\"dataframe\">\n",
              "  <thead>\n",
              "    <tr style=\"text-align: right;\">\n",
              "      <th></th>\n",
              "      <th>sepal length (cm)</th>\n",
              "      <th>sepal width (cm)</th>\n",
              "      <th>petal length (cm)</th>\n",
              "      <th>petal width (cm)</th>\n",
              "    </tr>\n",
              "  </thead>\n",
              "  <tbody>\n",
              "    <tr>\n",
              "      <th>0</th>\n",
              "      <td>5.1</td>\n",
              "      <td>3.5</td>\n",
              "      <td>1.4</td>\n",
              "      <td>0.2</td>\n",
              "    </tr>\n",
              "    <tr>\n",
              "      <th>1</th>\n",
              "      <td>4.9</td>\n",
              "      <td>3.0</td>\n",
              "      <td>1.4</td>\n",
              "      <td>0.2</td>\n",
              "    </tr>\n",
              "    <tr>\n",
              "      <th>2</th>\n",
              "      <td>4.7</td>\n",
              "      <td>3.2</td>\n",
              "      <td>1.3</td>\n",
              "      <td>0.2</td>\n",
              "    </tr>\n",
              "    <tr>\n",
              "      <th>3</th>\n",
              "      <td>4.6</td>\n",
              "      <td>3.1</td>\n",
              "      <td>1.5</td>\n",
              "      <td>0.2</td>\n",
              "    </tr>\n",
              "    <tr>\n",
              "      <th>4</th>\n",
              "      <td>5.0</td>\n",
              "      <td>3.6</td>\n",
              "      <td>1.4</td>\n",
              "      <td>0.2</td>\n",
              "    </tr>\n",
              "  </tbody>\n",
              "</table>\n",
              "</div>"
            ],
            "text/plain": [
              "   sepal length (cm)  sepal width (cm)  petal length (cm)  petal width (cm)\n",
              "0                5.1               3.5                1.4               0.2\n",
              "1                4.9               3.0                1.4               0.2\n",
              "2                4.7               3.2                1.3               0.2\n",
              "3                4.6               3.1                1.5               0.2\n",
              "4                5.0               3.6                1.4               0.2"
            ]
          },
          "metadata": {
            "tags": []
          },
          "execution_count": 3
        }
      ]
    },
    {
      "cell_type": "markdown",
      "metadata": {
        "id": "dokkrJCFrYCv"
      },
      "source": [
        "**#Finding the optimum number of clusters for k-means**"
      ]
    },
    {
      "cell_type": "code",
      "metadata": {
        "colab": {
          "base_uri": "https://localhost:8080/",
          "height": 295
        },
        "id": "TWbtNzpVqqOO",
        "outputId": "c0dad14b-855a-4f67-89df-e3fb0f1b650e"
      },
      "source": [
        "x = dataset.iloc[:, [0, 1, 2, 3]].values                 # conversion into a matrix\n",
        "\n",
        "from sklearn.cluster import KMeans                 #importing k means model\n",
        "wcss = []\n",
        "\n",
        "for i in range(1, 11):\n",
        "\n",
        "    classifier = KMeans(n_clusters = i, init = 'k-means++', \n",
        "                    max_iter = 300, n_init = 10, random_state = 0)                            #optimum clusters\n",
        "    classifier.fit(x)\n",
        "    wcss.append(classifier.inertia_)                             #calculation of wcss\n",
        "    \n",
        "# Plotting the results onto a line graph\n",
        "\n",
        "plt.plot(range(1, 11), wcss)\n",
        "\n",
        "plt.title('The elbow method')         # plot title, the method used\n",
        "\n",
        "plt.xlabel('No of clusters')           # x axes label\n",
        "\n",
        "plt.ylabel('WCSS')                     # Within Cluster Sum Of Squares(y axes label)\n",
        "\n",
        "plt.show()                             #plot output"
      ],
      "execution_count": 6,
      "outputs": [
        {
          "output_type": "display_data",
          "data": {
            "image/png": "[encoded data removed]",
            "text/plain": [
              "<Figure size 432x288 with 1 Axes>"
            ]
          },
          "metadata": {
            "tags": [],
            "needs_background": "light"
          }
        }
      ]
    },
    {
      "cell_type": "markdown",
      "metadata": {
        "id": "MZUO_knWto9g"
      },
      "source": [
        "From this graph the elbow is found on \"3\" so it is taken as the no. of clusters"
      ]
    },
    {
      "cell_type": "code",
      "metadata": {
        "id": "Q0wWYr0ut0Cm"
      },
      "source": [
        "classifier= KMeans(n_clusters = 3, init = 'k-means++',\n",
        "                max_iter = 300, n_init = 10, random_state = 0) \n",
        "\n",
        "y = classifier.fit_predict(x)                             #applying classifier\n"
      ],
      "execution_count": 8,
      "outputs": []
    },
    {
      "cell_type": "markdown",
      "metadata": {
        "id": "_atzfaeLIVhm"
      },
      "source": [
        "**#Visualising the clusters**"
      ]
    },
    {
      "cell_type": "code",
      "metadata": {
        "colab": {
          "base_uri": "https://localhost:8080/",
          "height": 285
        },
        "id": "k2g0KX_sISTh",
        "outputId": "d57740f2-3c40-46ac-e13a-701e6e065f7e"
      },
      "source": [
        "for i in np.unique(y):\n",
        "\n",
        "  plt.scatter(x[y==i,0],x[y==i,1],label=\"Species \"+str(i),s=100)     # for plotting clusters\n",
        "plt.scatter(classifier.cluster_centers_[:, 0], classifier.cluster_centers_[:,1], \n",
        "            s = 100, c = 'yellow', label = 'Centroids')                                              #for plotting centroids of clusters\n",
        "\n",
        "plt.legend()"
      ],
      "execution_count": 16,
      "outputs": [
        {
          "output_type": "execute_result",
          "data": {
            "text/plain": [
              "<matplotlib.legend.Legend at 0x7f7525adeb10>"
            ]
          },
          "metadata": {
            "tags": []
          },
          "execution_count": 16
        },
        {
          "output_type": "display_data",
          "data": {
            "image/png": "[encoded data removed]",
            "text/plain": [
              "<Figure size 432x288 with 1 Axes>"
            ]
          },
          "metadata": {
            "tags": [],
            "needs_background": "light"
          }
        }
      ]
    }
  ]
}